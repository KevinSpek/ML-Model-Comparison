{
 "cells": [
  {
   "cell_type": "markdown",
   "id": "c57ceb38",
   "metadata": {},
   "source": [
    "# Comparison Between 3 Types of Prediction Models\n",
    "\n",
    " - The first model will be a linear classifier.\n",
    " - The second one will be an ensemble model.\n",
    " - The third will be a deep learning one."
   ]
  },
  {
   "cell_type": "code",
   "execution_count": 1,
   "id": "698773a6",
   "metadata": {},
   "outputs": [],
   "source": [
    "import pandas as pd\n",
    "import numpy as np\n",
    "from sklearn.model_selection import train_test_split, GridSearchCV\n",
    "from sklearn.preprocessing import StandardScaler, LabelEncoder\n",
    "from sklearn.svm import SVC, LinearSVC\n",
    "from sklearn.linear_model import LogisticRegression, SGDClassifier, Perceptron\n",
    "from sklearn.utils import resample, shuffle\n",
    "from sklearn.metrics import recall_score, accuracy_score, classification_report,RocCurveDisplay, precision_score\n",
    "from sklearn.ensemble import BaggingClassifier, AdaBoostClassifier, StackingClassifier\n",
    "from sklearn.neural_network import MLPClassifier\n",
    "from sklearn.tree import DecisionTreeClassifier\n",
    "from sklearn.base import BaseEstimator, TransformerMixin\n",
    "from sklearn.pipeline import Pipeline\n",
    "import matplotlib.pyplot as plt\n",
    "from sklearn.decomposition import PCA\n",
    "from sklearn.utils import class_weight"
   ]
  },
  {
   "cell_type": "code",
   "execution_count": 2,
   "id": "dee0b3c9",
   "metadata": {},
   "outputs": [],
   "source": [
    "RANDOM_STATE = 99"
   ]
  },
  {
   "cell_type": "code",
   "execution_count": 3,
   "id": "59f4ee93",
   "metadata": {},
   "outputs": [],
   "source": [
    "data = pd.read_csv(\"data/clinical_trial.csv\")"
   ]
  },
  {
   "cell_type": "markdown",
   "id": "52a5e30e",
   "metadata": {},
   "source": [
    "## Explore"
   ]
  },
  {
   "cell_type": "code",
   "execution_count": 4,
   "id": "cde31974",
   "metadata": {},
   "outputs": [
    {
     "data": {
      "text/html": [
       "<div>\n",
       "<style scoped>\n",
       "    .dataframe tbody tr th:only-of-type {\n",
       "        vertical-align: middle;\n",
       "    }\n",
       "\n",
       "    .dataframe tbody tr th {\n",
       "        vertical-align: top;\n",
       "    }\n",
       "\n",
       "    .dataframe thead th {\n",
       "        text-align: right;\n",
       "    }\n",
       "</style>\n",
       "<table border=\"1\" class=\"dataframe\">\n",
       "  <thead>\n",
       "    <tr style=\"text-align: right;\">\n",
       "      <th></th>\n",
       "      <th>INTENSIVE</th>\n",
       "      <th>NEWSITEID</th>\n",
       "      <th>RISK10YRS</th>\n",
       "      <th>INCLUSIONFRS</th>\n",
       "      <th>SBP</th>\n",
       "      <th>DBP</th>\n",
       "      <th>N_AGENTS</th>\n",
       "      <th>NOAGENTS</th>\n",
       "      <th>SMOKE_3CAT</th>\n",
       "      <th>ASPIRIN</th>\n",
       "      <th>...</th>\n",
       "      <th>RACE4</th>\n",
       "      <th>CHR</th>\n",
       "      <th>GLUR</th>\n",
       "      <th>HDL</th>\n",
       "      <th>TRR</th>\n",
       "      <th>UMALCR</th>\n",
       "      <th>BMI</th>\n",
       "      <th>STATIN</th>\n",
       "      <th>SBPTERTILE</th>\n",
       "      <th>EVENT_PRIMARY</th>\n",
       "    </tr>\n",
       "  </thead>\n",
       "  <tbody>\n",
       "    <tr>\n",
       "      <th>0</th>\n",
       "      <td>Regular</td>\n",
       "      <td>74.0</td>\n",
       "      <td>29.732061</td>\n",
       "      <td>True</td>\n",
       "      <td>145</td>\n",
       "      <td>80</td>\n",
       "      <td>2</td>\n",
       "      <td>False</td>\n",
       "      <td>3</td>\n",
       "      <td>True</td>\n",
       "      <td>...</td>\n",
       "      <td>WHITE</td>\n",
       "      <td>155</td>\n",
       "      <td>81</td>\n",
       "      <td>36</td>\n",
       "      <td>92</td>\n",
       "      <td>5.80</td>\n",
       "      <td>33.115201</td>\n",
       "      <td>True</td>\n",
       "      <td>3</td>\n",
       "      <td>False</td>\n",
       "    </tr>\n",
       "    <tr>\n",
       "      <th>1</th>\n",
       "      <td>Regular</td>\n",
       "      <td>8.0</td>\n",
       "      <td>29.677619</td>\n",
       "      <td>True</td>\n",
       "      <td>138</td>\n",
       "      <td>71</td>\n",
       "      <td>1</td>\n",
       "      <td>False</td>\n",
       "      <td>2</td>\n",
       "      <td>True</td>\n",
       "      <td>...</td>\n",
       "      <td>WHITE</td>\n",
       "      <td>243</td>\n",
       "      <td>107</td>\n",
       "      <td>61</td>\n",
       "      <td>188</td>\n",
       "      <td>5.45</td>\n",
       "      <td>28.842380</td>\n",
       "      <td>True</td>\n",
       "      <td>2</td>\n",
       "      <td>False</td>\n",
       "    </tr>\n",
       "    <tr>\n",
       "      <th>2</th>\n",
       "      <td>Intensive</td>\n",
       "      <td>25.0</td>\n",
       "      <td>17.443819</td>\n",
       "      <td>True</td>\n",
       "      <td>143</td>\n",
       "      <td>92</td>\n",
       "      <td>2</td>\n",
       "      <td>False</td>\n",
       "      <td>2</td>\n",
       "      <td>False</td>\n",
       "      <td>...</td>\n",
       "      <td>WHITE</td>\n",
       "      <td>180</td>\n",
       "      <td>116</td>\n",
       "      <td>47</td>\n",
       "      <td>125</td>\n",
       "      <td>13.33</td>\n",
       "      <td>33.643060</td>\n",
       "      <td>False</td>\n",
       "      <td>2</td>\n",
       "      <td>False</td>\n",
       "    </tr>\n",
       "    <tr>\n",
       "      <th>3</th>\n",
       "      <td>Regular</td>\n",
       "      <td>96.0</td>\n",
       "      <td>8.627849</td>\n",
       "      <td>False</td>\n",
       "      <td>123</td>\n",
       "      <td>68</td>\n",
       "      <td>2</td>\n",
       "      <td>False</td>\n",
       "      <td>1</td>\n",
       "      <td>False</td>\n",
       "      <td>...</td>\n",
       "      <td>WHITE</td>\n",
       "      <td>234</td>\n",
       "      <td>93</td>\n",
       "      <td>89</td>\n",
       "      <td>109</td>\n",
       "      <td>6.12</td>\n",
       "      <td>29.337871</td>\n",
       "      <td>False</td>\n",
       "      <td>1</td>\n",
       "      <td>False</td>\n",
       "    </tr>\n",
       "    <tr>\n",
       "      <th>4</th>\n",
       "      <td>Intensive</td>\n",
       "      <td>42.0</td>\n",
       "      <td>23.751437</td>\n",
       "      <td>True</td>\n",
       "      <td>126</td>\n",
       "      <td>51</td>\n",
       "      <td>2</td>\n",
       "      <td>False</td>\n",
       "      <td>2</td>\n",
       "      <td>False</td>\n",
       "      <td>...</td>\n",
       "      <td>WHITE</td>\n",
       "      <td>126</td>\n",
       "      <td>108</td>\n",
       "      <td>39</td>\n",
       "      <td>84</td>\n",
       "      <td>28.78</td>\n",
       "      <td>36.660286</td>\n",
       "      <td>False</td>\n",
       "      <td>1</td>\n",
       "      <td>False</td>\n",
       "    </tr>\n",
       "  </tbody>\n",
       "</table>\n",
       "<p>5 rows × 30 columns</p>\n",
       "</div>"
      ],
      "text/plain": [
       "   INTENSIVE  NEWSITEID  RISK10YRS  INCLUSIONFRS  SBP  DBP  N_AGENTS  \\\n",
       "0    Regular       74.0  29.732061          True  145   80         2   \n",
       "1    Regular        8.0  29.677619          True  138   71         1   \n",
       "2  Intensive       25.0  17.443819          True  143   92         2   \n",
       "3    Regular       96.0   8.627849         False  123   68         2   \n",
       "4  Intensive       42.0  23.751437          True  126   51         2   \n",
       "\n",
       "   NOAGENTS  SMOKE_3CAT  ASPIRIN  ...  RACE4  CHR  GLUR  HDL  TRR  UMALCR  \\\n",
       "0     False           3     True  ...  WHITE  155    81   36   92    5.80   \n",
       "1     False           2     True  ...  WHITE  243   107   61  188    5.45   \n",
       "2     False           2    False  ...  WHITE  180   116   47  125   13.33   \n",
       "3     False           1    False  ...  WHITE  234    93   89  109    6.12   \n",
       "4     False           2    False  ...  WHITE  126   108   39   84   28.78   \n",
       "\n",
       "         BMI  STATIN  SBPTERTILE  EVENT_PRIMARY  \n",
       "0  33.115201    True           3          False  \n",
       "1  28.842380    True           2          False  \n",
       "2  33.643060   False           2          False  \n",
       "3  29.337871   False           1          False  \n",
       "4  36.660286   False           1          False  \n",
       "\n",
       "[5 rows x 30 columns]"
      ]
     },
     "execution_count": 4,
     "metadata": {},
     "output_type": "execute_result"
    }
   ],
   "source": [
    "data.head()"
   ]
  },
  {
   "cell_type": "code",
   "execution_count": 5,
   "id": "58baac86",
   "metadata": {},
   "outputs": [
    {
     "data": {
      "text/plain": [
       "Index(['INTENSIVE', 'NEWSITEID', 'RISK10YRS', 'INCLUSIONFRS', 'SBP', 'DBP',\n",
       "       'N_AGENTS', 'NOAGENTS', 'SMOKE_3CAT', 'ASPIRIN', 'EGFR', 'SCREAT',\n",
       "       'SUB_CKD', 'RACE_BLACK', 'AGE', 'FEMALE', 'SUB_CVD', 'SUB_CLINICALCVD',\n",
       "       'SUB_SUBCLINICALCVD', 'SUB_SENIOR', 'RACE4', 'CHR', 'GLUR', 'HDL',\n",
       "       'TRR', 'UMALCR', 'BMI', 'STATIN', 'SBPTERTILE', 'EVENT_PRIMARY'],\n",
       "      dtype='object')"
      ]
     },
     "execution_count": 5,
     "metadata": {},
     "output_type": "execute_result"
    }
   ],
   "source": [
    "data.columns"
   ]
  },
  {
   "cell_type": "code",
   "execution_count": 6,
   "id": "35ba8101",
   "metadata": {},
   "outputs": [
    {
     "data": {
      "text/plain": [
       "(8746, 30)"
      ]
     },
     "execution_count": 6,
     "metadata": {},
     "output_type": "execute_result"
    }
   ],
   "source": [
    "data.shape"
   ]
  },
  {
   "cell_type": "code",
   "execution_count": 7,
   "id": "886ef350",
   "metadata": {},
   "outputs": [
    {
     "name": "stdout",
     "output_type": "stream",
     "text": [
      "<class 'pandas.core.frame.DataFrame'>\n",
      "RangeIndex: 8746 entries, 0 to 8745\n",
      "Data columns (total 30 columns):\n",
      " #   Column              Non-Null Count  Dtype  \n",
      "---  ------              --------------  -----  \n",
      " 0   INTENSIVE           8746 non-null   object \n",
      " 1   NEWSITEID           8281 non-null   float64\n",
      " 2   RISK10YRS           8746 non-null   float64\n",
      " 3   INCLUSIONFRS        8746 non-null   bool   \n",
      " 4   SBP                 8746 non-null   int64  \n",
      " 5   DBP                 8746 non-null   int64  \n",
      " 6   N_AGENTS            8746 non-null   int64  \n",
      " 7   NOAGENTS            8746 non-null   bool   \n",
      " 8   SMOKE_3CAT          8746 non-null   int64  \n",
      " 9   ASPIRIN             8746 non-null   bool   \n",
      " 10  EGFR                8746 non-null   float64\n",
      " 11  SCREAT              8746 non-null   float64\n",
      " 12  SUB_CKD             8746 non-null   bool   \n",
      " 13  RACE_BLACK          8746 non-null   bool   \n",
      " 14  AGE                 8746 non-null   int64  \n",
      " 15  FEMALE              8746 non-null   bool   \n",
      " 16  SUB_CVD             8746 non-null   bool   \n",
      " 17  SUB_CLINICALCVD     8746 non-null   bool   \n",
      " 18  SUB_SUBCLINICALCVD  8746 non-null   bool   \n",
      " 19  SUB_SENIOR          8746 non-null   bool   \n",
      " 20  RACE4               8746 non-null   object \n",
      " 21  CHR                 8746 non-null   int64  \n",
      " 22  GLUR                8746 non-null   int64  \n",
      " 23  HDL                 8746 non-null   int64  \n",
      " 24  TRR                 8746 non-null   int64  \n",
      " 25  UMALCR              8746 non-null   float64\n",
      " 26  BMI                 8746 non-null   float64\n",
      " 27  STATIN              8746 non-null   bool   \n",
      " 28  SBPTERTILE          8746 non-null   int64  \n",
      " 29  EVENT_PRIMARY       8746 non-null   bool   \n",
      "dtypes: bool(12), float64(6), int64(10), object(2)\n",
      "memory usage: 1.3+ MB\n"
     ]
    }
   ],
   "source": [
    "data.info()"
   ]
  },
  {
   "cell_type": "markdown",
   "id": "b904bb2d",
   "metadata": {},
   "source": [
    "# Preprocess"
   ]
  },
  {
   "cell_type": "code",
   "execution_count": 8,
   "id": "0e6b4d60",
   "metadata": {},
   "outputs": [
    {
     "data": {
      "text/plain": [
       "INTENSIVE               0\n",
       "NEWSITEID             465\n",
       "RISK10YRS               0\n",
       "INCLUSIONFRS            0\n",
       "SBP                     0\n",
       "DBP                     0\n",
       "N_AGENTS                0\n",
       "NOAGENTS                0\n",
       "SMOKE_3CAT              0\n",
       "ASPIRIN                 0\n",
       "EGFR                    0\n",
       "SCREAT                  0\n",
       "SUB_CKD                 0\n",
       "RACE_BLACK              0\n",
       "AGE                     0\n",
       "FEMALE                  0\n",
       "SUB_CVD                 0\n",
       "SUB_CLINICALCVD         0\n",
       "SUB_SUBCLINICALCVD      0\n",
       "SUB_SENIOR              0\n",
       "RACE4                   0\n",
       "CHR                     0\n",
       "GLUR                    0\n",
       "HDL                     0\n",
       "TRR                     0\n",
       "UMALCR                  0\n",
       "BMI                     0\n",
       "STATIN                  0\n",
       "SBPTERTILE              0\n",
       "EVENT_PRIMARY           0\n",
       "dtype: int64"
      ]
     },
     "execution_count": 8,
     "metadata": {},
     "output_type": "execute_result"
    }
   ],
   "source": [
    "data.isnull().sum()"
   ]
  },
  {
   "cell_type": "markdown",
   "id": "977bf66d",
   "metadata": {},
   "source": [
    "There are 465 participants whom have an unknown site ID where they were treated.\n",
    "We have 3 options:\n",
    " - Remove these 465 rows and suffer from data loss\n",
    " - Fill these values with an ID that is not in our dataset (for example: ID = 0)\n",
    " - Remove the `NEWSITEID` Column\n",
    " \n",
    " \n",
    "We will fill the `na` values because dropping columns or rows could lead to data loss and we want to avoid that."
   ]
  },
  {
   "cell_type": "code",
   "execution_count": 9,
   "id": "b3985b3c",
   "metadata": {},
   "outputs": [
    {
     "data": {
      "text/plain": [
       "array([ 74.,   8.,  25.,  96.,  42.,  13.,   4.,  44.,  nan,   1.,  21.,\n",
       "        68.,  87.,  64.,  91.,  38.,  54.,  94.,  10.,  45.,  65.,  20.,\n",
       "         2.,  97.,  60.,  76.,  88.,  33.,  32., 102.,  23.,  63.,  55.,\n",
       "        92.,  48.,  47.,  95.,  12.,   5.,  15.,  19.,  22.,  81.,  70.,\n",
       "        67.,  72.,  31.,  61.,  41.,  52.,  80.,  85.,   3.,  50.,  51.,\n",
       "        57.,  82.,  98.,  59.,  56.,  27.,  79.,  40.,  11., 100.,  36.,\n",
       "        99.,  18.,  89.,  37.,  58.,   9.,  71.,  24.,   6.,  43.,  29.,\n",
       "        83.,  66.,  77.,  90.,  75.,  62.])"
      ]
     },
     "execution_count": 9,
     "metadata": {},
     "output_type": "execute_result"
    }
   ],
   "source": [
    "data['NEWSITEID'].unique()"
   ]
  },
  {
   "cell_type": "markdown",
   "id": "0088677c",
   "metadata": {},
   "source": [
    "The ID 0 is not present in the `NEWSITEID` therfore we can safely assign the ID 0 to missing valus."
   ]
  },
  {
   "cell_type": "code",
   "execution_count": 10,
   "id": "7e6f23ca",
   "metadata": {},
   "outputs": [],
   "source": [
    "data_fill_na = data.fillna(0)"
   ]
  },
  {
   "cell_type": "markdown",
   "id": "96eaffc6",
   "metadata": {},
   "source": [
    "Now Let's look how many values there are from each target group (i.e. how many `true` and how many `false`)"
   ]
  },
  {
   "cell_type": "code",
   "execution_count": 11,
   "id": "4fa1c511",
   "metadata": {},
   "outputs": [
    {
     "name": "stdout",
     "output_type": "stream",
     "text": [
      "Number of values\n",
      "\n",
      "With filled na:\n",
      "False    8207\n",
      "True      539\n",
      "Name: EVENT_PRIMARY, dtype: int64\n"
     ]
    }
   ],
   "source": [
    "print(\"Number of values\")\n",
    "print()\n",
    "print(\"With filled na:\")\n",
    "print(data_fill_na['EVENT_PRIMARY'].value_counts())"
   ]
  },
  {
   "cell_type": "markdown",
   "id": "e4fab749",
   "metadata": {},
   "source": [
    "Wow, this is a major problem. We have a lot of false values, but almost no true values.\n",
    "\n",
    "Something must be done with this huge imbalanced data."
   ]
  },
  {
   "cell_type": "code",
   "execution_count": 12,
   "id": "613c5423",
   "metadata": {},
   "outputs": [
    {
     "name": "stdout",
     "output_type": "stream",
     "text": [
      "Percent of True values:  0.06162817287903041\n"
     ]
    }
   ],
   "source": [
    "print(f\"Percent of True values:  {len(data_fill_na[data_fill_na['EVENT_PRIMARY']==True])/len(data_fill_na)}\")"
   ]
  },
  {
   "cell_type": "markdown",
   "id": "bce41f4f",
   "metadata": {},
   "source": [
    "This is a tiny percentage"
   ]
  },
  {
   "cell_type": "markdown",
   "id": "2c821c4c",
   "metadata": {},
   "source": [
    "### Split data"
   ]
  },
  {
   "cell_type": "code",
   "execution_count": 13,
   "id": "c2857c91",
   "metadata": {},
   "outputs": [],
   "source": [
    "def split(df):\n",
    "    y = df['EVENT_PRIMARY']\n",
    "    X = df.drop('EVENT_PRIMARY', axis=1)\n",
    "    X_train, X_test, y_train, y_test = train_test_split(X, y, test_size=0.25, random_state=RANDOM_STATE)\n",
    "    return X_train, X_test, y_train, y_test"
   ]
  },
  {
   "cell_type": "code",
   "execution_count": 14,
   "id": "1e05a138",
   "metadata": {},
   "outputs": [],
   "source": [
    "X_train, X_test, y_train, y_test = split(data_fill_na.copy())"
   ]
  },
  {
   "cell_type": "markdown",
   "id": "7a52bf3b",
   "metadata": {},
   "source": [
    "#### Creating our own preprocessing transformer"
   ]
  },
  {
   "cell_type": "code",
   "execution_count": 15,
   "id": "d95b480f",
   "metadata": {},
   "outputs": [],
   "source": [
    "class Preprocessor(BaseEstimator, TransformerMixin):\n",
    "    def __init__(self):\n",
    "        pass\n",
    "        "
   ]
  },
  {
   "cell_type": "markdown",
   "id": "847602e9",
   "metadata": {},
   "source": [
    "#### Examine data metrics"
   ]
  },
  {
   "cell_type": "code",
   "execution_count": 16,
   "id": "17a2707a",
   "metadata": {},
   "outputs": [
    {
     "data": {
      "text/html": [
       "<div>\n",
       "<style scoped>\n",
       "    .dataframe tbody tr th:only-of-type {\n",
       "        vertical-align: middle;\n",
       "    }\n",
       "\n",
       "    .dataframe tbody tr th {\n",
       "        vertical-align: top;\n",
       "    }\n",
       "\n",
       "    .dataframe thead th {\n",
       "        text-align: right;\n",
       "    }\n",
       "</style>\n",
       "<table border=\"1\" class=\"dataframe\">\n",
       "  <thead>\n",
       "    <tr style=\"text-align: right;\">\n",
       "      <th></th>\n",
       "      <th>NEWSITEID</th>\n",
       "      <th>RISK10YRS</th>\n",
       "      <th>SBP</th>\n",
       "      <th>DBP</th>\n",
       "      <th>N_AGENTS</th>\n",
       "      <th>SMOKE_3CAT</th>\n",
       "      <th>EGFR</th>\n",
       "      <th>SCREAT</th>\n",
       "      <th>AGE</th>\n",
       "      <th>CHR</th>\n",
       "      <th>GLUR</th>\n",
       "      <th>HDL</th>\n",
       "      <th>TRR</th>\n",
       "      <th>UMALCR</th>\n",
       "      <th>BMI</th>\n",
       "      <th>SBPTERTILE</th>\n",
       "    </tr>\n",
       "  </thead>\n",
       "  <tbody>\n",
       "    <tr>\n",
       "      <th>count</th>\n",
       "      <td>8281.000000</td>\n",
       "      <td>8746.000000</td>\n",
       "      <td>8746.000000</td>\n",
       "      <td>8746.000000</td>\n",
       "      <td>8746.000000</td>\n",
       "      <td>8746.000000</td>\n",
       "      <td>8746.000000</td>\n",
       "      <td>8746.000000</td>\n",
       "      <td>8746.000000</td>\n",
       "      <td>8746.000000</td>\n",
       "      <td>8746.000000</td>\n",
       "      <td>8746.000000</td>\n",
       "      <td>8746.000000</td>\n",
       "      <td>8746.000000</td>\n",
       "      <td>8746.000000</td>\n",
       "      <td>8746.000000</td>\n",
       "    </tr>\n",
       "    <tr>\n",
       "      <th>mean</th>\n",
       "      <td>55.820674</td>\n",
       "      <td>20.143798</td>\n",
       "      <td>139.704894</td>\n",
       "      <td>78.149325</td>\n",
       "      <td>1.837754</td>\n",
       "      <td>1.695632</td>\n",
       "      <td>71.689646</td>\n",
       "      <td>1.077442</td>\n",
       "      <td>67.893666</td>\n",
       "      <td>189.993025</td>\n",
       "      <td>98.907729</td>\n",
       "      <td>52.787674</td>\n",
       "      <td>126.092271</td>\n",
       "      <td>42.528651</td>\n",
       "      <td>29.882733</td>\n",
       "      <td>2.006403</td>\n",
       "    </tr>\n",
       "    <tr>\n",
       "      <th>std</th>\n",
       "      <td>29.743937</td>\n",
       "      <td>10.843465</td>\n",
       "      <td>15.623359</td>\n",
       "      <td>11.988268</td>\n",
       "      <td>1.035492</td>\n",
       "      <td>0.693989</td>\n",
       "      <td>20.684404</td>\n",
       "      <td>0.342435</td>\n",
       "      <td>9.432551</td>\n",
       "      <td>41.112715</td>\n",
       "      <td>13.614090</td>\n",
       "      <td>14.523649</td>\n",
       "      <td>84.036103</td>\n",
       "      <td>166.747879</td>\n",
       "      <td>5.786064</td>\n",
       "      <td>0.821080</td>\n",
       "    </tr>\n",
       "    <tr>\n",
       "      <th>min</th>\n",
       "      <td>1.000000</td>\n",
       "      <td>1.863811</td>\n",
       "      <td>72.000000</td>\n",
       "      <td>40.000000</td>\n",
       "      <td>0.000000</td>\n",
       "      <td>1.000000</td>\n",
       "      <td>14.660000</td>\n",
       "      <td>0.420000</td>\n",
       "      <td>50.000000</td>\n",
       "      <td>71.000000</td>\n",
       "      <td>44.000000</td>\n",
       "      <td>17.000000</td>\n",
       "      <td>23.000000</td>\n",
       "      <td>1.360000</td>\n",
       "      <td>13.734281</td>\n",
       "      <td>1.000000</td>\n",
       "    </tr>\n",
       "    <tr>\n",
       "      <th>25%</th>\n",
       "      <td>32.000000</td>\n",
       "      <td>12.051891</td>\n",
       "      <td>130.000000</td>\n",
       "      <td>70.000000</td>\n",
       "      <td>1.000000</td>\n",
       "      <td>1.000000</td>\n",
       "      <td>57.980000</td>\n",
       "      <td>0.860000</td>\n",
       "      <td>61.000000</td>\n",
       "      <td>161.000000</td>\n",
       "      <td>91.000000</td>\n",
       "      <td>43.000000</td>\n",
       "      <td>77.000000</td>\n",
       "      <td>5.630000</td>\n",
       "      <td>25.915815</td>\n",
       "      <td>1.000000</td>\n",
       "    </tr>\n",
       "    <tr>\n",
       "      <th>50%</th>\n",
       "      <td>58.000000</td>\n",
       "      <td>17.821904</td>\n",
       "      <td>138.000000</td>\n",
       "      <td>78.000000</td>\n",
       "      <td>2.000000</td>\n",
       "      <td>2.000000</td>\n",
       "      <td>71.310000</td>\n",
       "      <td>1.010000</td>\n",
       "      <td>67.000000</td>\n",
       "      <td>186.000000</td>\n",
       "      <td>97.000000</td>\n",
       "      <td>50.000000</td>\n",
       "      <td>107.000000</td>\n",
       "      <td>9.520000</td>\n",
       "      <td>29.041334</td>\n",
       "      <td>2.000000</td>\n",
       "    </tr>\n",
       "    <tr>\n",
       "      <th>75%</th>\n",
       "      <td>81.000000</td>\n",
       "      <td>25.762838</td>\n",
       "      <td>149.000000</td>\n",
       "      <td>86.000000</td>\n",
       "      <td>3.000000</td>\n",
       "      <td>2.000000</td>\n",
       "      <td>84.720000</td>\n",
       "      <td>1.210000</td>\n",
       "      <td>76.000000</td>\n",
       "      <td>214.000000</td>\n",
       "      <td>105.000000</td>\n",
       "      <td>60.000000</td>\n",
       "      <td>150.000000</td>\n",
       "      <td>21.430000</td>\n",
       "      <td>32.937432</td>\n",
       "      <td>3.000000</td>\n",
       "    </tr>\n",
       "    <tr>\n",
       "      <th>max</th>\n",
       "      <td>102.000000</td>\n",
       "      <td>81.187680</td>\n",
       "      <td>231.000000</td>\n",
       "      <td>134.000000</td>\n",
       "      <td>6.000000</td>\n",
       "      <td>3.000000</td>\n",
       "      <td>186.190000</td>\n",
       "      <td>4.040000</td>\n",
       "      <td>90.000000</td>\n",
       "      <td>437.000000</td>\n",
       "      <td>286.000000</td>\n",
       "      <td>161.000000</td>\n",
       "      <td>2414.000000</td>\n",
       "      <td>5000.000000</td>\n",
       "      <td>69.591365</td>\n",
       "      <td>3.000000</td>\n",
       "    </tr>\n",
       "  </tbody>\n",
       "</table>\n",
       "</div>"
      ],
      "text/plain": [
       "         NEWSITEID    RISK10YRS          SBP          DBP     N_AGENTS  \\\n",
       "count  8281.000000  8746.000000  8746.000000  8746.000000  8746.000000   \n",
       "mean     55.820674    20.143798   139.704894    78.149325     1.837754   \n",
       "std      29.743937    10.843465    15.623359    11.988268     1.035492   \n",
       "min       1.000000     1.863811    72.000000    40.000000     0.000000   \n",
       "25%      32.000000    12.051891   130.000000    70.000000     1.000000   \n",
       "50%      58.000000    17.821904   138.000000    78.000000     2.000000   \n",
       "75%      81.000000    25.762838   149.000000    86.000000     3.000000   \n",
       "max     102.000000    81.187680   231.000000   134.000000     6.000000   \n",
       "\n",
       "        SMOKE_3CAT         EGFR       SCREAT          AGE          CHR  \\\n",
       "count  8746.000000  8746.000000  8746.000000  8746.000000  8746.000000   \n",
       "mean      1.695632    71.689646     1.077442    67.893666   189.993025   \n",
       "std       0.693989    20.684404     0.342435     9.432551    41.112715   \n",
       "min       1.000000    14.660000     0.420000    50.000000    71.000000   \n",
       "25%       1.000000    57.980000     0.860000    61.000000   161.000000   \n",
       "50%       2.000000    71.310000     1.010000    67.000000   186.000000   \n",
       "75%       2.000000    84.720000     1.210000    76.000000   214.000000   \n",
       "max       3.000000   186.190000     4.040000    90.000000   437.000000   \n",
       "\n",
       "              GLUR          HDL          TRR       UMALCR          BMI  \\\n",
       "count  8746.000000  8746.000000  8746.000000  8746.000000  8746.000000   \n",
       "mean     98.907729    52.787674   126.092271    42.528651    29.882733   \n",
       "std      13.614090    14.523649    84.036103   166.747879     5.786064   \n",
       "min      44.000000    17.000000    23.000000     1.360000    13.734281   \n",
       "25%      91.000000    43.000000    77.000000     5.630000    25.915815   \n",
       "50%      97.000000    50.000000   107.000000     9.520000    29.041334   \n",
       "75%     105.000000    60.000000   150.000000    21.430000    32.937432   \n",
       "max     286.000000   161.000000  2414.000000  5000.000000    69.591365   \n",
       "\n",
       "        SBPTERTILE  \n",
       "count  8746.000000  \n",
       "mean      2.006403  \n",
       "std       0.821080  \n",
       "min       1.000000  \n",
       "25%       1.000000  \n",
       "50%       2.000000  \n",
       "75%       3.000000  \n",
       "max       3.000000  "
      ]
     },
     "execution_count": 16,
     "metadata": {},
     "output_type": "execute_result"
    }
   ],
   "source": [
    "data.describe()"
   ]
  },
  {
   "cell_type": "markdown",
   "id": "18998526",
   "metadata": {},
   "source": [
    "The values have different kinds of magnitudes. We will standardize the data"
   ]
  },
  {
   "cell_type": "code",
   "execution_count": 17,
   "id": "5634a809",
   "metadata": {},
   "outputs": [],
   "source": [
    "class Preprocessor(Preprocessor):\n",
    "    def standardize(self, df):\n",
    "        for col_name in df.columns:\n",
    "            if not df[col_name].dtype == 'object' and not df[col_name].dtype == 'bool':\n",
    "                scaler = StandardScaler()\n",
    "                df[col_name] = scaler.fit_transform(np.array(df[col_name]).reshape(-1,1)).flatten()\n",
    "        return df\n",
    "    "
   ]
  },
  {
   "cell_type": "markdown",
   "id": "cbaed3a6",
   "metadata": {},
   "source": [
    "Great, now we will convert categorical data into numeric data."
   ]
  },
  {
   "cell_type": "code",
   "execution_count": 18,
   "id": "500a354d",
   "metadata": {},
   "outputs": [
    {
     "name": "stdout",
     "output_type": "stream",
     "text": [
      "<class 'pandas.core.frame.DataFrame'>\n",
      "RangeIndex: 8746 entries, 0 to 8745\n",
      "Data columns (total 30 columns):\n",
      " #   Column              Non-Null Count  Dtype  \n",
      "---  ------              --------------  -----  \n",
      " 0   INTENSIVE           8746 non-null   object \n",
      " 1   NEWSITEID           8281 non-null   float64\n",
      " 2   RISK10YRS           8746 non-null   float64\n",
      " 3   INCLUSIONFRS        8746 non-null   bool   \n",
      " 4   SBP                 8746 non-null   int64  \n",
      " 5   DBP                 8746 non-null   int64  \n",
      " 6   N_AGENTS            8746 non-null   int64  \n",
      " 7   NOAGENTS            8746 non-null   bool   \n",
      " 8   SMOKE_3CAT          8746 non-null   int64  \n",
      " 9   ASPIRIN             8746 non-null   bool   \n",
      " 10  EGFR                8746 non-null   float64\n",
      " 11  SCREAT              8746 non-null   float64\n",
      " 12  SUB_CKD             8746 non-null   bool   \n",
      " 13  RACE_BLACK          8746 non-null   bool   \n",
      " 14  AGE                 8746 non-null   int64  \n",
      " 15  FEMALE              8746 non-null   bool   \n",
      " 16  SUB_CVD             8746 non-null   bool   \n",
      " 17  SUB_CLINICALCVD     8746 non-null   bool   \n",
      " 18  SUB_SUBCLINICALCVD  8746 non-null   bool   \n",
      " 19  SUB_SENIOR          8746 non-null   bool   \n",
      " 20  RACE4               8746 non-null   object \n",
      " 21  CHR                 8746 non-null   int64  \n",
      " 22  GLUR                8746 non-null   int64  \n",
      " 23  HDL                 8746 non-null   int64  \n",
      " 24  TRR                 8746 non-null   int64  \n",
      " 25  UMALCR              8746 non-null   float64\n",
      " 26  BMI                 8746 non-null   float64\n",
      " 27  STATIN              8746 non-null   bool   \n",
      " 28  SBPTERTILE          8746 non-null   int64  \n",
      " 29  EVENT_PRIMARY       8746 non-null   bool   \n",
      "dtypes: bool(12), float64(6), int64(10), object(2)\n",
      "memory usage: 1.3+ MB\n"
     ]
    }
   ],
   "source": [
    "data.info()"
   ]
  },
  {
   "cell_type": "markdown",
   "id": "35d3620a",
   "metadata": {},
   "source": [
    "There are 2 categorical columns: RACE4, INTENSIVE\n",
    "\n",
    "We will create a categorical method convertor"
   ]
  },
  {
   "cell_type": "code",
   "execution_count": 19,
   "id": "8d6c74d9",
   "metadata": {},
   "outputs": [],
   "source": [
    "class Preprocessor(Preprocessor):\n",
    "    def cat(self, df):\n",
    "        for col_name in df.columns:\n",
    "            if(df[col_name].dtype == 'object'):\n",
    "                df[col_name]= df[col_name].astype('category')\n",
    "                df[col_name] = df.loc[:, col_name].cat.codes\n",
    "        return df"
   ]
  },
  {
   "cell_type": "markdown",
   "id": "fb72909b",
   "metadata": {},
   "source": [
    "### Handle imbalanced data\n",
    "\n",
    "\n",
    "There are two main methods for handling imbalanced data: `Oversampling` and `Undersampling`. According to the following thread: https://stackoverflow.com/questions/44244711/imbalanced-data-undersampling-or-oversampling There are a few guidelines to choose one over the other:\n",
    "\n",
    " - Undesampling is used when there are lots (billions) of data points and we don't have sufficient compute or memory (RAM)\n",
    " - Undersampling may lead to worse performance due to data loss\n",
    " - Oversampling tends to work better as there is no loss of information\n",
    " \n",
    "But we could also use the parameter `class_weight = 'balanced'` in each model to let it handle the imbalance by itself."
   ]
  },
  {
   "cell_type": "markdown",
   "id": "201b6548",
   "metadata": {},
   "source": [
    "#### Finally Define the `fit` and `transform` methods"
   ]
  },
  {
   "cell_type": "code",
   "execution_count": 20,
   "id": "4b36988b",
   "metadata": {},
   "outputs": [],
   "source": [
    "class Preprocessor(Preprocessor):\n",
    "    def fit(self, X,y):\n",
    "        return self\n",
    "    \n",
    "    def transform(self, X, y=None):\n",
    "        X = self.standardize(X.copy())\n",
    "        X = self.cat(X)\n",
    "        return X"
   ]
  },
  {
   "cell_type": "markdown",
   "id": "63231f9c",
   "metadata": {},
   "source": [
    "# Model Creation"
   ]
  },
  {
   "cell_type": "markdown",
   "id": "ff5379b3",
   "metadata": {},
   "source": [
    "3 Model comparisons\n",
    "\n",
    " - Linear classifier -    SVM\n",
    " - Ensemble model -       Bagging, Boosting, Stacking\n",
    " - Deep Learning -        ANN (Artificial Neural Network)\n",
    " \n",
    "#### <ins>Reasons for choosing the models:<ins>\n",
    "\n",
    " - SVM: Our data is complex, and its theme (medical) is even more complex. it is not likely that our data is good for a linear classification model. nevertheless this model utilizing the kernel trick and it might uplift our predictions.\n",
    "    \n",
    "    \n",
    " - Ensemble: There is no definite good answer to which model is the best to choose. We don't know how any of the ensembles would behave so we will have to try all of them and pick the best one for comparison.\n",
    "    \n",
    "    \n",
    "   \n",
    "  - ANN: There are 4 main deep learning models: `ANN`, `CNN`, `Auto encoders`, `SOM`. `CNN` is good for several things, his main usage is for image processing, `Auto encoders` are mostly used for `NLP`, `Audio`, `Images` etc. and `SOM` Classifies features that are related to each other. All of these are not our case. We will use the `ANN` classifier because it is used as a good label classifier for our data set.\n",
    "    \n",
    "    \n",
    " \n",
    "For all models we will use grid search with default 5 fold cross validation\n",
    "\n",
    "**<ins>Evaluation:<ins>**\n",
    "    This data set contains medical information, (specifically mortality classification - patient death or cardiovascular event).\n",
    "    There is no room for mistakes. Classifying a patient as safe when he is not could lead tragedy, whereas classifying him as potentially in risk when he is not is not dangerous for us. \n",
    "    \n",
    " - We will use f1 as our main evaluation metric because we want to prevent the scenario where the model would guess only `True` for each data point and by that getting a low `precision` score"
   ]
  },
  {
   "cell_type": "markdown",
   "id": "ed511574",
   "metadata": {},
   "source": [
    "## Linear Model\n",
    "\n",
    "We will use SVM model as our linear model, and try different kinds of kernel functions to see which one performs best"
   ]
  },
  {
   "cell_type": "code",
   "execution_count": 21,
   "id": "bcb3f9ef",
   "metadata": {},
   "outputs": [
    {
     "name": "stdout",
     "output_type": "stream",
     "text": [
      "------ Scores ------\n",
      "SVM |    Recall Score:  0.56738, Accuracy Score: 0.6986739826245999\n"
     ]
    }
   ],
   "source": [
    "params = {\n",
    "    \"kernel\": ('poly', 'sigmoid', 'rbf', 'linear'),\n",
    "    'class_weight': ['balanced']\n",
    "}\n",
    "gs_svc = GridSearchCV(SVC(random_state=RANDOM_STATE), params, scoring = 'f1')\n",
    "pipe_svc = Pipeline([('preprocessor', Preprocessor()), (\"SVC\", gs_svc)])\n",
    "pipe_svc.fit(X_train, y_train)\n",
    "\n",
    "pred = pipe_svc.predict(X_test)\n",
    "print('------ Scores ------')\n",
    "print(f\"SVM |    Recall Score:  {round(recall_score(y_test, pred), 5)}, Accuracy Score: {accuracy_score(y_test, pred)}\")\n"
   ]
  },
  {
   "cell_type": "markdown",
   "id": "d541412c",
   "metadata": {},
   "source": [
    "#### SVM received poor results.\n",
    "\n",
    "The `accuracy` score is low but `recall` score is what we are looking at, and it is even lower."
   ]
  },
  {
   "cell_type": "markdown",
   "id": "c6109827",
   "metadata": {},
   "source": [
    "## Ensemble Model\n",
    "\n",
    "For Ensemble models we will run `Bagging`, `Adaboost`, and `Stacking` with different kinds of weak estimators."
   ]
  },
  {
   "cell_type": "code",
   "execution_count": 22,
   "id": "69244b71",
   "metadata": {},
   "outputs": [
    {
     "name": "stdout",
     "output_type": "stream",
     "text": [
      "------ Scores ------\n",
      "Bagging  |    Recall Score:  0.5461, Accuracy Score: 0.67946959304984\n",
      "Adaboost |    Recall Score:  0.58156, Accuracy Score: 0.6808413351623228\n",
      "Stacking |    Recall Score:  0.2695, Accuracy Score: 0.8518518518518519\n"
     ]
    }
   ],
   "source": [
    "params_1 = { 'base_estimator': [DecisionTreeClassifier(max_depth=1, class_weight='balanced'), \n",
    "                               LogisticRegression(class_weight='balanced'),\n",
    "                               ],\n",
    "}\n",
    "estimators = [\n",
    "    ('per', Perceptron(random_state=RANDOM_STATE, class_weight='balanced')),      \n",
    "    ('dtc',  DecisionTreeClassifier(random_state=RANDOM_STATE, class_weight='balanced')),\n",
    "    ('sgd', SGDClassifier(random_state=RANDOM_STATE, class_weight='balanced'))\n",
    "\n",
    "]\n",
    "final_estimator = LogisticRegression(class_weight='balanced')\n",
    "\n",
    "gs_bgc = GridSearchCV(BaggingClassifier(random_state=RANDOM_STATE), params_1, scoring = 'f1')\n",
    "gs_abc = GridSearchCV(AdaBoostClassifier(random_state=RANDOM_STATE), params_1, scoring = 'f1')\n",
    "gs_stc = GridSearchCV(StackingClassifier(estimators=estimators, final_estimator=final_estimator), {}, scoring = 'f1')\n",
    "pipe_bgc = Pipeline([('preprocessor', Preprocessor()), (\"Bagging\", gs_bgc)])\n",
    "pipe_abc = Pipeline([('preprocessor', Preprocessor()), (\"Adaboost\", gs_abc)])\n",
    "pipe_stc = Pipeline([('preprocessor', Preprocessor()), (\"Stacking\", gs_stc)])\n",
    "\n",
    "pipe_bgc.fit(X_train, y_train)\n",
    "pipe_abc.fit(X_train, y_train)\n",
    "pipe_stc.fit(X_train, y_train)\n",
    "\n",
    "\n",
    "pred_bgc = pipe_bgc.predict(X_test)\n",
    "pred_abc = pipe_abc.predict(X_test)\n",
    "pred_stc = pipe_stc.predict(X_test)\n",
    "print('------ Scores ------')\n",
    "print(f\"Bagging  |    Recall Score:  {round(recall_score(y_test, pred_bgc), 5)}, Accuracy Score: {accuracy_score(y_test, pred_bgc)}\")\n",
    "print(f\"Adaboost |    Recall Score:  {round(recall_score(y_test, pred_abc), 5)}, Accuracy Score: {accuracy_score(y_test, pred_abc)}\")\n",
    "print(f\"Stacking |    Recall Score:  {round(recall_score(y_test, pred_stc), 5)}, Accuracy Score: {accuracy_score(y_test, pred_stc)}\")\n"
   ]
  },
  {
   "cell_type": "markdown",
   "id": "eabdaf6e",
   "metadata": {},
   "source": [
    "#### Ensemble Scores are similar\n",
    "\n",
    "`Adaboost` performed better than `bagging` both in `accuracy` and `recall` score. `Stacking` performed better in accuracy score but worse in recall. We will choose `Adaboost` for the comparison because recall is more important to us."
   ]
  },
  {
   "cell_type": "markdown",
   "id": "8b8b5731",
   "metadata": {},
   "source": [
    "## Deep Learning Model\n",
    "\n",
    "Artificial Deep Neural Network\n",
    "\n",
    "Knowing how many hidden layers and how many neurons is a tought task. According to this article: https://www.linkedin.com/pulse/choosing-number-hidden-layers-neurons-neural-networks-sachdev/ there are a few good guidelines:\n",
    "\n",
    " -  If data is less complex and is having fewer dimensions or features then neural networks with 1 to 2 hidden layers would work.\n",
    " -  The number of hidden neurons should be between the size of the input layer and the output layer.\n",
    " -  The most appropriate number of hidden neurons is sqrt(input layer nodes * output layer nodes)\n",
    " -  The number of hidden neurons should keep on decreasing in subsequent layers to get more and more close to pattern and feature extraction and to identify the target class.\n",
    "\n",
    "\n",
    " \n",
    " There are 29 feautres and 2 labels. Meaning:\n",
    " \n",
    " - The number of hidden neurons is between 2 and 29\n",
    " - The number of hidden neurons should be $sqrt(29 * 2) = 8$\n",
    " - The number of hidden layers would be between 1 or 2\n",
    " - The number of neurons in each hidden layer should decrease\n",
    "\n",
    "Also accoring to the `Introduction to Neural Networks for Java, Second Edition by jeffheaton` one or two hidden layers is sufficient to approximate any smooth mapping to any accuracy\n",
    "\n",
    "#### Choosing parameters\n",
    "\n",
    "To fight the imbalance data we will change the learning_rate to `invscaling` (to gradually decreases the learning rate) with the solver `stochastic gradient descent`. The tuning parameters would be `activation` functions, `batch_size` and we will try different number hidden layers that follow the guidelines above"
   ]
  },
  {
   "cell_type": "code",
   "execution_count": 23,
   "id": "8cdda988",
   "metadata": {},
   "outputs": [
    {
     "name": "stdout",
     "output_type": "stream",
     "text": [
      "------ Scores ------\n",
      "Neural Net |    Recall Score: 0.26241, Accuracy Score: 0.80612711476909\n"
     ]
    }
   ],
   "source": [
    "params = { \n",
    "    \"hidden_layer_sizes\": ( (5,3), (8,), (6,2,), (4,4), (7,1) ),\n",
    "    'activation': ['logistic', 'tanh', 'relu'],\n",
    "    'learning_rate': ['invscaling'],\n",
    "    'solver': ['sgd'],\n",
    "    'batch_size': [50, 100, 500, 1000, 4000],\n",
    "    'tol': [1e-3] # To make the model run faster!\n",
    "\n",
    "}\n",
    "gs_mlp = GridSearchCV(MLPClassifier(random_state=RANDOM_STATE), params, scoring = 'f1')\n",
    "pipe_mlp = Pipeline([('preprocessor', Preprocessor()), (\"MLP\", gs_mlp)])\n",
    "pipe_mlp.fit(X_train, y_train)\n",
    "\n",
    "pred = pipe_mlp.predict(X_test)\n",
    "print('------ Scores ------')\n",
    "print(f\"Neural Net |    Recall Score: {round(recall_score(y_test, pred), 5)}, Accuracy Score: {accuracy_score(y_test, pred)}\")  \n"
   ]
  },
  {
   "cell_type": "markdown",
   "id": "084f65bf",
   "metadata": {},
   "source": [
    "#### The results are not satisfying\n",
    "\n",
    "The recall scores of this model are smaller than the `SVM` model"
   ]
  },
  {
   "cell_type": "markdown",
   "id": "f68ad6f6",
   "metadata": {},
   "source": [
    "### Batch Size Analysis\n",
    "\n",
    "First to replicate the Neural Net score, We will find the optimal parameters"
   ]
  },
  {
   "cell_type": "code",
   "execution_count": 24,
   "id": "16d3d534",
   "metadata": {},
   "outputs": [
    {
     "data": {
      "text/plain": [
       "{'activation': 'logistic',\n",
       " 'batch_size': 500,\n",
       " 'hidden_layer_sizes': (8,),\n",
       " 'learning_rate': 'invscaling',\n",
       " 'solver': 'sgd',\n",
       " 'tol': 0.001}"
      ]
     },
     "execution_count": 24,
     "metadata": {},
     "output_type": "execute_result"
    }
   ],
   "source": [
    "pipe_mlp['MLP'].best_params_"
   ]
  },
  {
   "cell_type": "code",
   "execution_count": 25,
   "id": "ca8f879a",
   "metadata": {},
   "outputs": [
    {
     "name": "stdout",
     "output_type": "stream",
     "text": [
      "Batch: 100 |    Recall Score: 0.0, Accuracy Score: 0.9355281207133059\n",
      "Batch: 200 |    Recall Score: 0.0, Accuracy Score: 0.9350708733424783\n",
      "Batch: 300 |    Recall Score: 0.02837, Accuracy Score: 0.928212162780064\n",
      "Batch: 400 |    Recall Score: 0.11348, Accuracy Score: 0.8856881572930956\n",
      "Batch: 500 |    Recall Score: 0.26241, Accuracy Score: 0.80612711476909\n",
      "Batch: 600 |    Recall Score: 0.43262, Accuracy Score: 0.6625514403292181\n",
      "Batch: 700 |    Recall Score: 0.46099, Accuracy Score: 0.6012802926383173\n",
      "Batch: 800 |    Recall Score: 0.51773, Accuracy Score: 0.5368084133516232\n",
      "Batch: 900 |    Recall Score: 0.55319, Accuracy Score: 0.4773662551440329\n",
      "Batch: 1000 |    Recall Score: 0.6383, Accuracy Score: 0.4192958390489255\n",
      "Batch: 1100 |    Recall Score: 0.68794, Accuracy Score: 0.36259716506630085\n",
      "Batch: 1200 |    Recall Score: 0.68794, Accuracy Score: 0.3639689071787837\n",
      "Batch: 1300 |    Recall Score: 0.68794, Accuracy Score: 0.36031092821216276\n",
      "Batch: 1400 |    Recall Score: 0.73759, Accuracy Score: 0.3168724279835391\n",
      "Batch: 1500 |    Recall Score: 0.73759, Accuracy Score: 0.3168724279835391\n",
      "Batch: 1600 |    Recall Score: 0.73759, Accuracy Score: 0.31321444901691814\n",
      "Batch: 1700 |    Recall Score: 0.78014, Accuracy Score: 0.27709190672153633\n",
      "Batch: 1800 |    Recall Score: 0.78014, Accuracy Score: 0.27709190672153633\n",
      "Batch: 1900 |    Recall Score: 0.78014, Accuracy Score: 0.27754915409236397\n"
     ]
    }
   ],
   "source": [
    "for batch in range(100, 2000, 100):\n",
    "    MLP = MLPClassifier(random_state=RANDOM_STATE, \n",
    "                        activation= 'logistic', \n",
    "                        hidden_layer_sizes = (8,), \n",
    "                        learning_rate= 'invscaling', \n",
    "                        solver='sgd', \n",
    "                        tol= 0.001,\n",
    "                        batch_size=batch\n",
    "                       )\n",
    "    pip = Pipeline([('preprocessor', Preprocessor()), (\"MLP\", MLP)])\n",
    "    pip.fit(X_train, y_train)\n",
    "    pred = pip.predict(X_test)\n",
    "    print(f\"Batch: {batch} |    Recall Score: {round(recall_score(y_test, pred), 5)}, Accuracy Score: {accuracy_score(y_test, pred)}\")  \n"
   ]
  },
  {
   "cell_type": "markdown",
   "id": "bc519f17",
   "metadata": {},
   "source": [
    "Look at that! We got a recall of 0.78014! The more we increase the batch size the better the recall. But it is not good as we thought. Like we said earlier, It is a tradeoff between the precision and the recall score. The accuracy plummets as the recall score gets higher. This is not what we want! A model with `0.277` accuracy is very bad. The `GridSearchCV` figured that the best batch size is `500` according to the `best_params_` parameter. By increasing the batch size we reduce the number of backpropagation and by that we increase the `True` label power but also neglecting the `False` label. It is a tradeoff."
   ]
  },
  {
   "cell_type": "code",
   "execution_count": 26,
   "id": "0e7f181a",
   "metadata": {},
   "outputs": [
    {
     "name": "stdout",
     "output_type": "stream",
     "text": [
      "Precision: 0.06631\n"
     ]
    }
   ],
   "source": [
    "print(f'Precision: {round(precision_score(y_test, pred), 5)}')"
   ]
  },
  {
   "cell_type": "markdown",
   "id": "a91c5ad8",
   "metadata": {},
   "source": [
    "`0.06631` Precision!! this is bad, and not recommended."
   ]
  },
  {
   "cell_type": "markdown",
   "id": "8bc9b933",
   "metadata": {},
   "source": [
    "# Model Comparison\n",
    "\n",
    "models we will comapre:\n",
    " - SVC\n",
    " - Adaboost\n",
    " - Neural Net"
   ]
  },
  {
   "cell_type": "markdown",
   "id": "69a749e3",
   "metadata": {},
   "source": [
    "#### Receiver operating characteristic (ROC)"
   ]
  },
  {
   "cell_type": "code",
   "execution_count": 27,
   "id": "e78483ca",
   "metadata": {},
   "outputs": [
    {
     "data": {
      "image/png": "[encoded data removed]",
      "text/plain": [
       "<Figure size 432x288 with 1 Axes>"
      ]
     },
     "metadata": {
      "needs_background": "light"
     },
     "output_type": "display_data"
    }
   ],
   "source": [
    "ax = plt.gca()\n",
    "svm_roc = RocCurveDisplay.from_estimator(pipe_svc, X_test, y_test, ax=ax, alpha=0.8, name='Support Vector Classifier')\n",
    "abc_roc = RocCurveDisplay.from_estimator(pipe_abc, X_test, y_test, ax=ax, alpha=0.8, name='Adaboost')\n",
    "mlp_roc = RocCurveDisplay.from_estimator(pipe_mlp, X_test, y_test, ax=ax, alpha=0.8, name='Multilayer perceptron')\n"
   ]
  },
  {
   "cell_type": "markdown",
   "id": "b69fff2b",
   "metadata": {},
   "source": [
    "The models are Intermediate, The AUC scores are between `0.5` and `0.7`. `SVC` performed better than the rest but it is still similiar to `Adaboost`. `Neural Net` performed the worst"
   ]
  },
  {
   "cell_type": "markdown",
   "id": "2d9c1871",
   "metadata": {},
   "source": [
    "#### Raw Metrics"
   ]
  },
  {
   "cell_type": "code",
   "execution_count": 28,
   "id": "a05daeab",
   "metadata": {},
   "outputs": [],
   "source": [
    "svm_report = pd.DataFrame(classification_report(y_test, pipe_svc.predict(X_test), output_dict=True)).T\n",
    "abc_report = pd.DataFrame(classification_report(y_test, pipe_abc.predict(X_test), output_dict=True)).T\n",
    "mlp_report = pd.DataFrame(classification_report(y_test, pipe_mlp.predict(X_test), output_dict=True)).T"
   ]
  },
  {
   "cell_type": "code",
   "execution_count": 29,
   "id": "94fcb2ed",
   "metadata": {},
   "outputs": [],
   "source": [
    "accuracies_test = [svm_report.T['accuracy'][0], abc_report.T['accuracy'][0], mlp_report.T['accuracy'][0]]\n",
    "accuracies_train = [accuracy_score(y_train, pipe_svc.predict(X_train)), accuracy_score(y_train, pipe_svc.predict(X_train)), accuracy_score(y_train, pipe_svc.predict(X_train))]\n",
    "\n",
    "true_precision = [svm_report['precision'][1], abc_report['precision'][1], mlp_report['precision'][1]]\n",
    "true_recall = [svm_report['recall'][1], abc_report['recall'][1], mlp_report['recall'][1]]\n",
    "true_f1 = [svm_report['f1-score'][1], abc_report['f1-score'][1], mlp_report['f1-score'][1]]\n",
    "\n",
    "false_precision = [svm_report['precision'][0], abc_report['precision'][0], mlp_report['precision'][0]]\n",
    "false_recall = [svm_report['recall'][0], abc_report['recall'][0], mlp_report['recall'][0]]\n",
    "false_f1 = [svm_report['f1-score'][0], abc_report['f1-score'][0], mlp_report['f1-score'][0]]"
   ]
  },
  {
   "cell_type": "code",
   "execution_count": 30,
   "id": "791f6740",
   "metadata": {},
   "outputs": [
    {
     "data": {
      "text/plain": [
       "<matplotlib.legend.Legend at 0x213f6ad8220>"
      ]
     },
     "execution_count": 30,
     "metadata": {},
     "output_type": "execute_result"
    },
    {
     "data": {
      "image/png": "[encoded data removed]",
      "text/plain": [
       "<Figure size 1080x360 with 2 Axes>"
      ]
     },
     "metadata": {
      "needs_background": "light"
     },
     "output_type": "display_data"
    }
   ],
   "source": [
    "X = np.arange(3)\n",
    "labels = ['SVC', 'AdaBoost', 'MLP']\n",
    "fig, ax = plt.subplots(nrows=1, ncols=2, figsize=(15,5))\n",
    "ax[0].set_xticks(X, labels)\n",
    "ax[0].bar(X - 0.25, true_precision, width = 0.25, label='Precision')\n",
    "ax[0].bar(X + 0.00, true_recall, width = 0.25, label='Recall')\n",
    "ax[0].bar(X + 0.25, true_f1, width = 0.25, label='F1-Score')\n",
    "ax[0].set_title(\"True class labels metrics\")\n",
    "ax[0].legend()\n",
    "\n",
    "\n",
    "ax[1].set_xticks(X, labels)\n",
    "ax[1].bar(X - 0.25, false_precision, width = 0.25, label='Precision')\n",
    "ax[1].bar(X + 0.00, false_recall, width = 0.25, label='Recall')\n",
    "ax[1].bar(X + 0.25, false_f1, width = 0.25, label='F1-Score')\n",
    "ax[1].set_title(\"False class labels metrics\")\n",
    "ax[1].legend()"
   ]
  },
  {
   "cell_type": "markdown",
   "id": "f03e1eb7",
   "metadata": {},
   "source": [
    "Adaboost performed best for recalling the `True` labels which are crucial for saving lives, but on the other hand it performed slightly worse at predicitng the `False` labels compared to others but it is not a major concern for us."
   ]
  },
  {
   "cell_type": "markdown",
   "id": "372efcb9",
   "metadata": {},
   "source": [
    "#### Overfit Analysis"
   ]
  },
  {
   "cell_type": "code",
   "execution_count": 31,
   "id": "fadb6f17",
   "metadata": {
    "scrolled": true
   },
   "outputs": [
    {
     "data": {
      "text/plain": [
       "<matplotlib.legend.Legend at 0x213f6bd36d0>"
      ]
     },
     "execution_count": 31,
     "metadata": {},
     "output_type": "execute_result"
    },
    {
     "data": {
      "image/png": "[encoded data removed]",
      "text/plain": [
       "<Figure size 720x288 with 1 Axes>"
      ]
     },
     "metadata": {
      "needs_background": "light"
     },
     "output_type": "display_data"
    }
   ],
   "source": [
    "X = np.arange(3)\n",
    "Y = np.arange(0, 1.1, 0.1)\n",
    "\n",
    "labels = ['SVC', 'AdaBoost', 'MLP']\n",
    "fig, ax = plt.subplots(figsize=(10,4))\n",
    "ax.set_xticks(X, labels)\n",
    "ax.bar(X-0.15, accuracies_train, width = 0.3, color=['firebrick'], label='Train')\n",
    "ax.bar(X+0.15, accuracies_test, width = 0.3, color=['dodgerblue'], label='Test')\n",
    "ax.set_title(\"Accuracy\")\n",
    "ax.legend(loc=10, prop={'size': 10})"
   ]
  },
  {
   "cell_type": "markdown",
   "id": "6ba0dc03",
   "metadata": {},
   "source": [
    "The train accuracy and the test accuracy and almost equal. Non of the models overfitted."
   ]
  },
  {
   "cell_type": "markdown",
   "id": "d9faf149",
   "metadata": {},
   "source": [
    "#### Visualize the Data \n",
    "\n",
    "Visualize the dataset in 2D and 3D to better understand why the models are performing poorly"
   ]
  },
  {
   "cell_type": "code",
   "execution_count": 32,
   "id": "fcd7d299",
   "metadata": {},
   "outputs": [],
   "source": [
    "pca = PCA()\n",
    "proc = Preprocessor()\n",
    "principals = proc.transform(X_train.copy())\n",
    "principals = pca.fit_transform(principals)\n",
    "\n",
    "principal_2 = principals[:, :2]\n",
    "principal_3 = principals[:, :3]\n",
    "\n",
    "principal_2_df = pd.DataFrame(data = principal_2, columns = ['pc1', 'pc2'])\n",
    "principal_3_df = pd.DataFrame(data = principal_3, columns = ['pc1', 'pc2', 'pc3'])\n",
    "\n",
    "principal_2_df['label'] = y_train\n",
    "principal_3_df['label'] = y_train"
   ]
  },
  {
   "cell_type": "markdown",
   "id": "69e91f3b",
   "metadata": {},
   "source": [
    "#### 2D plot"
   ]
  },
  {
   "cell_type": "code",
   "execution_count": 33,
   "id": "8f3885b5",
   "metadata": {},
   "outputs": [
    {
     "data": {
      "image/png": "[encoded data removed]",
      "text/plain": [
       "<Figure size 720x576 with 1 Axes>"
      ]
     },
     "metadata": {
      "needs_background": "light"
     },
     "output_type": "display_data"
    }
   ],
   "source": [
    "fig = plt.figure(figsize=(10,8))\n",
    "ax = fig.add_subplot()\n",
    "\n",
    "death = principal_2_df[principal_2_df[\"label\"]==1]\n",
    "live = principal_2_df[principal_2_df[\"label\"]==0]\n",
    "ax.scatter(death[\"pc1\"], death[\"pc2\"], label=\"Death\", alpha = 1, s=4)\n",
    "ax.scatter(live[\"pc1\"], live[\"pc2\"], label=\"Live\", alpha = 0.7, s=2)\n",
    "lgnd = ax.legend(loc=2, prop={'size': 15})\n",
    "lgnd.legendHandles[0]._sizes = [100]\n",
    "lgnd.legendHandles[1]._sizes = [100]"
   ]
  },
  {
   "cell_type": "markdown",
   "id": "6db789d1",
   "metadata": {},
   "source": [
    "Look at that! There is absolute no distinction between the sick patricipnats and the healthy ones\n",
    "\n",
    "#### 3D plot"
   ]
  },
  {
   "cell_type": "code",
   "execution_count": 34,
   "id": "9f19c765",
   "metadata": {},
   "outputs": [
    {
     "data": {
      "image/png": "[encoded data removed]",
      "text/plain": [
       "<Figure size 720x720 with 1 Axes>"
      ]
     },
     "metadata": {
      "needs_background": "light"
     },
     "output_type": "display_data"
    }
   ],
   "source": [
    "fig = plt.figure(figsize=(10,10))\n",
    "ax = fig.add_subplot(projection='3d')\n",
    "Death_3 = principal_3_df[principal_3_df[\"label\"]==1]\n",
    "Live_3 = principal_3_df[principal_3_df[\"label\"]==0]\n",
    "ax.scatter(Death_3[\"pc1\"], Death_3[\"pc2\"],Death_3[\"pc3\"], label=\"Death\", s=5, alpha=0.8)\n",
    "ax.scatter(Live_3[\"pc1\"], Live_3[\"pc2\"],Live_3[\"pc3\"], label=\"Live\", s=3, alpha=0.3)\n",
    "lgnd = ax.legend(loc=2, prop={'size': 20})\n",
    "lgnd.legendHandles[0]._sizes = [150]\n",
    "lgnd.legendHandles[1]._sizes = [150]"
   ]
  },
  {
   "cell_type": "markdown",
   "id": "f5e02488",
   "metadata": {},
   "source": [
    "The same thing happens in 3D. The data is not separable atleast in the 2D and the 3D world"
   ]
  },
  {
   "cell_type": "markdown",
   "id": "a878e09d",
   "metadata": {},
   "source": [
    "# Summary\n",
    "\n",
    "We should have plotted that data with `PCA` before starting training the models because according to the plots above the data is hard to be separated by the `true` and `false` labels. All models we trained didn't perform good. Most of the models missed close to 50% (And the MLP model even more!) sick participants. We would not advise using this data for predictions, But if there is no choice then A human second opinion is a must in this case."
   ]
  },
  {
   "cell_type": "code",
   "execution_count": null,
   "id": "6a7f4419",
   "metadata": {},
   "outputs": [],
   "source": []
  }
 ],
 "metadata": {
  "kernelspec": {
   "display_name": "Python 3 (ipykernel)",
   "language": "python",
   "name": "python3"
  },
  "language_info": {
   "codemirror_mode": {
    "name": "ipython",
    "version": 3
   },
   "file_extension": ".py",
   "mimetype": "text/x-python",
   "name": "python",
   "nbconvert_exporter": "python",
   "pygments_lexer": "ipython3",
   "version": "3.7.9"
  }
 },
 "nbformat": 4,
 "nbformat_minor": 5
}
